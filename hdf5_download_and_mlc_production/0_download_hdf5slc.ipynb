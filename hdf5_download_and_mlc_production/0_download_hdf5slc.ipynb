{
 "cells": [
  {
   "cell_type": "markdown",
   "metadata": {},
   "source": [
    "# Download tool for the UAVSAR RSLC's dealing with dithered data"
   ]
  },
  {
   "cell_type": "code",
   "execution_count": 1,
   "metadata": {},
   "outputs": [],
   "source": [
    "import os, shutil\n",
    "import subprocess as sp"
   ]
  },
  {
   "cell_type": "code",
   "execution_count": 2,
   "metadata": {},
   "outputs": [],
   "source": [
    "#indicate flightline details\n",
    "CAMPAIGN='NISARP' #or 'NISARA' for AM and 'NISARP' for PM\n",
    "SITE='25006'\n",
    "PROD='138' #129 = global 20 & 5 MHz, 138 = US Ag 40 & 5 MHz\n",
    "PROD2='CG' #CX = normal, CG = dithered-gaps, CD = dithered-no-gaps\n",
    "URLROOT = 'https://uavsar.asf.alaska.edu'\n",
    "# URLROOT = 'https://uavsar.jpl.nasa.gov/cgi-bin/data.pl' #this doesnt work\n",
    "if CAMPAIGN=='NISARA':\n",
    "    #download root web address for the AM datasets\n",
    "    DOWNLOADROOT='https://uavsar.jpl.nasa.gov/Release2v' #AM\n",
    "    releaseroot = 'http://downloaduav.jpl.nasa.gov/Release2v/' #AM\n",
    "elif CAMPAIGN=='NISARP':\n",
    "    #download root web address for the PM datasets\n",
    "    DOWNLOADROOT='https://uavsar.jpl.nasa.gov/Release2m' #PM\n",
    "    releaseroot = 'http://downloaduav.jpl.nasa.gov/Release2m/' #PM\n",
    "\n",
    "basedir= os.getcwd()\n",
    "workingdir=os.path.join(basedir, SITE, PROD, PROD2)\n",
    "os.makedirs(workingdir,exist_ok='True')\n",
    "if not os.path.exists(workingdir):\n",
    "    os.mkdir(workingdir)\n",
    "UAVSARTOOL= os.path.join(basedir, 'seppo_uavsar_download.py')"
   ]
  },
  {
   "cell_type": "code",
   "execution_count": 3,
   "metadata": {},
   "outputs": [],
   "source": [
    "# Only run if you didn't install the download tool yet\n",
    "\n",
    "# HOWTO:\n",
    "# 1) download tool from here: https://raw.githubusercontent.com/EarthBigData/openSAR/master/code/seppo/seppo_uavsar_download.py\n",
    "# 2) chmod +x seppo_uavsar_download.py\n",
    "# 3) may need to change the shebang in the seppo tool from python to python3\n",
    "\n",
    "# Get the open sourced UAVSAR download tool to find data take ids:\n",
    "# cmd='wget -c -O {UAVSARTOOL} https://raw.githubusercontent.com/EarthBigData/openSAR/master/code/seppo/seppo_uavsar_download.py; chmod 755 {UAVSARTOOL}'.format(UAVSARTOOL=UAVSARTOOL)\n",
    "# os.system(cmd)"
   ]
  },
  {
   "cell_type": "code",
   "execution_count": 4,
   "metadata": {},
   "outputs": [
    {
     "name": "stdout",
     "output_type": "stream",
     "text": [
      "/data1/uavsar/uavsar_h5slc2mlc_rev/seppo_uavsar_download.py  --urlroot https://uavsar.asf.alaska.edu --site 25006 --campaign NISARP -ldt > /data1/uavsar/uavsar_h5slc2mlc_rev/25006/138/CG/datatakes_25006\n"
     ]
    },
    {
     "data": {
      "text/plain": [
       "256"
      ]
     },
     "execution_count": 4,
     "metadata": {},
     "output_type": "execute_result"
    }
   ],
   "source": [
    "# If you never built the index (that is, there is no datatake_27900 or so file listing all the flights)\n",
    "# run this command with -the -r switch; may take some time\n",
    "#BUILDINDEX='-r'\n",
    "# Otherwise uncomment below\n",
    "\n",
    "BUILDINDEX=''\n",
    "DATATAKES=os.path.join(workingdir, 'datatakes_'+SITE) #the datatake text file\n",
    "cmd=UAVSARTOOL+' {BUILDINDEX} --urlroot {URLROOT} --site {SITE} --campaign {CAMPAIGN} -ldt > {DATATAKES}'.format(BUILDINDEX=BUILDINDEX,URLROOT=URLROOT,SITE=SITE,CAMPAIGN=CAMPAIGN,DATATAKES=DATATAKES)\n",
    "print(cmd)\n",
    "os.system(cmd)"
   ]
  },
  {
   "cell_type": "code",
   "execution_count": 5,
   "metadata": {},
   "outputs": [
    {
     "name": "stdout",
     "output_type": "stream",
     "text": [
      "All available data:\n",
      "NISARP_25006_19040_009_190621_L090_CX_02\n",
      "NISARP_25006_19049_013_190718_L090_CX_01\n",
      "NISARP_25006_19049_013_190718_L090_CX_02\n",
      "NISARP_25006_19052_011_190727_L090_CX_01\n",
      "NISARP_25006_19054_005_190814_L090_CX_01\n",
      "NISARP_25006_19071_007_191002_L090_CX_01\n",
      "NISARP_25006_19078_007_191016_L090_CX_01\n",
      "Most updated data:\n",
      "NISARP_25006_19040_009_190621_L090_CX_02\n",
      "NISARP_25006_19049_013_190718_L090_CX_02\n",
      "NISARP_25006_19052_011_190727_L090_CX_01\n",
      "NISARP_25006_19054_005_190814_L090_CX_01\n",
      "NISARP_25006_19071_007_191002_L090_CX_01\n",
      "NISARP_25006_19078_007_191016_L090_CX_01\n"
     ]
    }
   ],
   "source": [
    "#------------------------Can be commented after data folder operations were performed once (download, reprojections)\n",
    "#READ IN THE DATA TAKES FILE\n",
    "datatakes = []\n",
    "with open(DATATAKES,\"r\") as f:\n",
    "    for num, val in enumerate(f.readlines()):\n",
    "        if val.startswith('UA_NISAR') and not val.endswith('04\\n'):\n",
    "            #condition needed because\n",
    "            #1) sometimes the first line in this file does not contain any UAVSAR related information, i.e. when BUILDINDEX -r\n",
    "            #2) ASF lists a v4 product that doesn't actually exist. Valid datasets can be found on the NASA JPL website shown above. \n",
    "            datatakes.append(val)\n",
    "\n",
    "# fixes the formatting of the above list \n",
    "dt_tmp=[x.lstrip('UA_').rstrip('\\n') for x in datatakes]\n",
    "print('All available data:')\n",
    "print('\\n'.join(dt_tmp))\n",
    "\n",
    "# builds a dictionary structure with the datatake id and list of the available versions\n",
    "dt={}\n",
    "for i in dt_tmp:\n",
    "    tokens=i.split('_')\n",
    "    dtroot='_'.join(tokens[:-1])\n",
    "    if not dtroot in dt:\n",
    "        dt[dtroot]=[]\n",
    "    dt[dtroot].append(tokens[-1])\n",
    "#print(dt)\n",
    "\n",
    "# always choose the latest version, because it is the most error corrected/up-to-data data that should be used \n",
    "product_ids=[]\n",
    "for i in dt:\n",
    "    product_ids.append(i+'_'+dt[i][-1])\n",
    "product_ids.sort()\n",
    "\n",
    "print('Most updated data:')\n",
    "print('\\n'.join(product_ids))"
   ]
  },
  {
   "cell_type": "markdown",
   "metadata": {},
   "source": [
    "### We may need to repair some data references\n",
    "\n",
    "UA_NISARP_25006 campaign \n",
    "1. Versions need to be incremented by 1"
   ]
  },
  {
   "cell_type": "code",
   "execution_count": 6,
   "metadata": {},
   "outputs": [
    {
     "name": "stdout",
     "output_type": "stream",
     "text": [
      "['NISARP_25006_19040_009_190621_L090_CX_03', 'NISARP_25006_19049_013_190718_L090_CX_03', 'NISARP_25006_19052_011_190727_L090_CX_02', 'NISARP_25006_19054_005_190814_L090_CX_02', 'NISARP_25006_19071_007_191002_L090_CX_02', 'NISARP_25006_19078_007_191016_L090_CX_02']\n"
     ]
    }
   ],
   "source": [
    "#------------------------Can be commented after data folder operations were performed once (download, reprojections)\n",
    "if SITE=='25006':\n",
    "    for num, val in enumerate(product_ids):\n",
    "        aa = val.split('CX_')\n",
    "        vernum = int(aa[-1])+1\n",
    "        product_ids[num] = aa[0]+'CX_'+'0'+str(vernum)\n",
    "print(product_ids)"
   ]
  },
  {
   "cell_type": "markdown",
   "metadata": {},
   "source": [
    "## Download the data takes\n",
    "We construct the downloadlinks for the RSLC."
   ]
  },
  {
   "cell_type": "code",
   "execution_count": 7,
   "metadata": {},
   "outputs": [],
   "source": [
    "#------------------------Can be commented after data folder operations were performed once (download, reprojections)\n",
    "\n",
    "#this function programmatically generates the download links of each RSLC file\n",
    "#DOWNLOADROOT='https://uavsar.jpl.nasa.gov/Release2u'\n",
    "\n",
    "def get_download_links(product_id,root=releaseroot):    \n",
    "    dl={}\n",
    "    dl['annA']    = root.rstrip('/')+'/'+product_id+'//'+product_id.replace('_CX_','_CX_'+PROD+'A_')+'.ann'\n",
    "    dl['annB']    = root.rstrip('/')+'/'+product_id+'//'+product_id.replace('_CX_','_CX_'+PROD+'B_')+'.ann'\n",
    "    dl['h5']     = root.rstrip('/')+'/'+product_id+'//'+product_id.replace('_CX_','_'+PROD2+'_'+PROD+'_')+'.h5'\n",
    "    return dl\n",
    "\n",
    "# build dictionary of links where the UAVSAR annotation file (ann), the radiometric and terrain correction factor (rtcf), the flat earth incidence angle (flatinc) and the HVHV GRD data can be downloaded\n",
    "dl={}\n",
    "for i in product_ids:\n",
    "    dl[i]=get_download_links(i,root=DOWNLOADROOT)"
   ]
  },
  {
   "cell_type": "code",
   "execution_count": 8,
   "metadata": {},
   "outputs": [
    {
     "data": {
      "text/plain": [
       "{'NISARP_25006_19040_009_190621_L090_CX_03': {'annA': 'https://uavsar.jpl.nasa.gov/Release2m/NISARP_25006_19040_009_190621_L090_CX_03//NISARP_25006_19040_009_190621_L090_CX_138A_03.ann',\n",
       "  'annB': 'https://uavsar.jpl.nasa.gov/Release2m/NISARP_25006_19040_009_190621_L090_CX_03//NISARP_25006_19040_009_190621_L090_CX_138B_03.ann',\n",
       "  'h5': 'https://uavsar.jpl.nasa.gov/Release2m/NISARP_25006_19040_009_190621_L090_CX_03//NISARP_25006_19040_009_190621_L090_CG_138_03.h5'},\n",
       " 'NISARP_25006_19049_013_190718_L090_CX_03': {'annA': 'https://uavsar.jpl.nasa.gov/Release2m/NISARP_25006_19049_013_190718_L090_CX_03//NISARP_25006_19049_013_190718_L090_CX_138A_03.ann',\n",
       "  'annB': 'https://uavsar.jpl.nasa.gov/Release2m/NISARP_25006_19049_013_190718_L090_CX_03//NISARP_25006_19049_013_190718_L090_CX_138B_03.ann',\n",
       "  'h5': 'https://uavsar.jpl.nasa.gov/Release2m/NISARP_25006_19049_013_190718_L090_CX_03//NISARP_25006_19049_013_190718_L090_CG_138_03.h5'},\n",
       " 'NISARP_25006_19052_011_190727_L090_CX_02': {'annA': 'https://uavsar.jpl.nasa.gov/Release2m/NISARP_25006_19052_011_190727_L090_CX_02//NISARP_25006_19052_011_190727_L090_CX_138A_02.ann',\n",
       "  'annB': 'https://uavsar.jpl.nasa.gov/Release2m/NISARP_25006_19052_011_190727_L090_CX_02//NISARP_25006_19052_011_190727_L090_CX_138B_02.ann',\n",
       "  'h5': 'https://uavsar.jpl.nasa.gov/Release2m/NISARP_25006_19052_011_190727_L090_CX_02//NISARP_25006_19052_011_190727_L090_CG_138_02.h5'},\n",
       " 'NISARP_25006_19054_005_190814_L090_CX_02': {'annA': 'https://uavsar.jpl.nasa.gov/Release2m/NISARP_25006_19054_005_190814_L090_CX_02//NISARP_25006_19054_005_190814_L090_CX_138A_02.ann',\n",
       "  'annB': 'https://uavsar.jpl.nasa.gov/Release2m/NISARP_25006_19054_005_190814_L090_CX_02//NISARP_25006_19054_005_190814_L090_CX_138B_02.ann',\n",
       "  'h5': 'https://uavsar.jpl.nasa.gov/Release2m/NISARP_25006_19054_005_190814_L090_CX_02//NISARP_25006_19054_005_190814_L090_CG_138_02.h5'},\n",
       " 'NISARP_25006_19071_007_191002_L090_CX_02': {'annA': 'https://uavsar.jpl.nasa.gov/Release2m/NISARP_25006_19071_007_191002_L090_CX_02//NISARP_25006_19071_007_191002_L090_CX_138A_02.ann',\n",
       "  'annB': 'https://uavsar.jpl.nasa.gov/Release2m/NISARP_25006_19071_007_191002_L090_CX_02//NISARP_25006_19071_007_191002_L090_CX_138B_02.ann',\n",
       "  'h5': 'https://uavsar.jpl.nasa.gov/Release2m/NISARP_25006_19071_007_191002_L090_CX_02//NISARP_25006_19071_007_191002_L090_CG_138_02.h5'},\n",
       " 'NISARP_25006_19078_007_191016_L090_CX_02': {'annA': 'https://uavsar.jpl.nasa.gov/Release2m/NISARP_25006_19078_007_191016_L090_CX_02//NISARP_25006_19078_007_191016_L090_CX_138A_02.ann',\n",
       "  'annB': 'https://uavsar.jpl.nasa.gov/Release2m/NISARP_25006_19078_007_191016_L090_CX_02//NISARP_25006_19078_007_191016_L090_CX_138B_02.ann',\n",
       "  'h5': 'https://uavsar.jpl.nasa.gov/Release2m/NISARP_25006_19078_007_191016_L090_CX_02//NISARP_25006_19078_007_191016_L090_CG_138_02.h5'}}"
      ]
     },
     "execution_count": 8,
     "metadata": {},
     "output_type": "execute_result"
    }
   ],
   "source": [
    "dl"
   ]
  },
  {
   "cell_type": "code",
   "execution_count": 9,
   "metadata": {
    "scrolled": false
   },
   "outputs": [
    {
     "name": "stdout",
     "output_type": "stream",
     "text": [
      "wget -c https://uavsar.jpl.nasa.gov/Release2m/NISARP_25006_19040_009_190621_L090_CX_03//NISARP_25006_19040_009_190621_L090_CX_138A_03.ann\n",
      "wget -c https://uavsar.jpl.nasa.gov/Release2m/NISARP_25006_19040_009_190621_L090_CX_03//NISARP_25006_19040_009_190621_L090_CX_138B_03.ann\n",
      "wget -c https://uavsar.jpl.nasa.gov/Release2m/NISARP_25006_19040_009_190621_L090_CX_03//NISARP_25006_19040_009_190621_L090_CG_138_03.h5\n",
      "wget -c https://uavsar.jpl.nasa.gov/Release2m/NISARP_25006_19049_013_190718_L090_CX_03//NISARP_25006_19049_013_190718_L090_CX_138A_03.ann\n",
      "wget -c https://uavsar.jpl.nasa.gov/Release2m/NISARP_25006_19049_013_190718_L090_CX_03//NISARP_25006_19049_013_190718_L090_CX_138B_03.ann\n",
      "wget -c https://uavsar.jpl.nasa.gov/Release2m/NISARP_25006_19049_013_190718_L090_CX_03//NISARP_25006_19049_013_190718_L090_CG_138_03.h5\n",
      "wget -c https://uavsar.jpl.nasa.gov/Release2m/NISARP_25006_19052_011_190727_L090_CX_02//NISARP_25006_19052_011_190727_L090_CX_138A_02.ann\n",
      "wget -c https://uavsar.jpl.nasa.gov/Release2m/NISARP_25006_19052_011_190727_L090_CX_02//NISARP_25006_19052_011_190727_L090_CX_138B_02.ann\n",
      "wget -c https://uavsar.jpl.nasa.gov/Release2m/NISARP_25006_19052_011_190727_L090_CX_02//NISARP_25006_19052_011_190727_L090_CG_138_02.h5\n",
      "wget -c https://uavsar.jpl.nasa.gov/Release2m/NISARP_25006_19054_005_190814_L090_CX_02//NISARP_25006_19054_005_190814_L090_CX_138A_02.ann\n",
      "wget -c https://uavsar.jpl.nasa.gov/Release2m/NISARP_25006_19054_005_190814_L090_CX_02//NISARP_25006_19054_005_190814_L090_CX_138B_02.ann\n",
      "wget -c https://uavsar.jpl.nasa.gov/Release2m/NISARP_25006_19054_005_190814_L090_CX_02//NISARP_25006_19054_005_190814_L090_CG_138_02.h5\n",
      "wget -c https://uavsar.jpl.nasa.gov/Release2m/NISARP_25006_19071_007_191002_L090_CX_02//NISARP_25006_19071_007_191002_L090_CX_138A_02.ann\n",
      "wget -c https://uavsar.jpl.nasa.gov/Release2m/NISARP_25006_19071_007_191002_L090_CX_02//NISARP_25006_19071_007_191002_L090_CX_138B_02.ann\n",
      "wget -c https://uavsar.jpl.nasa.gov/Release2m/NISARP_25006_19071_007_191002_L090_CX_02//NISARP_25006_19071_007_191002_L090_CG_138_02.h5\n",
      "wget -c https://uavsar.jpl.nasa.gov/Release2m/NISARP_25006_19078_007_191016_L090_CX_02//NISARP_25006_19078_007_191016_L090_CX_138A_02.ann\n",
      "wget -c https://uavsar.jpl.nasa.gov/Release2m/NISARP_25006_19078_007_191016_L090_CX_02//NISARP_25006_19078_007_191016_L090_CX_138B_02.ann\n",
      "wget -c https://uavsar.jpl.nasa.gov/Release2m/NISARP_25006_19078_007_191016_L090_CX_02//NISARP_25006_19078_007_191016_L090_CG_138_02.h5\n"
     ]
    }
   ],
   "source": [
    "#------------------------Can be commented after data folder operations were performed once (download, reprojections)\n",
    "os.chdir(workingdir)\n",
    "failed=[]\n",
    "\n",
    "for dt in dl:\n",
    "    for i in dl[dt]:\n",
    "        try:\n",
    "            cmd='wget -c {}'.format(dl[dt][i])\n",
    "            print(cmd)\n",
    "            sp.check_call(cmd.split())\n",
    "        except:\n",
    "            failed.append(dl[dt][i])\n",
    "            print('cannot  download',dl[dt][i])\n",
    "if failed:\n",
    "        print('Please manually edit the download list with an valid version number and rerun from cell \"GET DOWNLOAD URLS\"')"
   ]
  },
  {
   "cell_type": "code",
   "execution_count": null,
   "metadata": {},
   "outputs": [],
   "source": []
  }
 ],
 "metadata": {
  "kernelspec": {
   "display_name": "Python 3",
   "language": "python",
   "name": "python3"
  },
  "language_info": {
   "codemirror_mode": {
    "name": "ipython",
    "version": 3
   },
   "file_extension": ".py",
   "mimetype": "text/x-python",
   "name": "python",
   "nbconvert_exporter": "python",
   "pygments_lexer": "ipython3",
   "version": "3.7.3"
  }
 },
 "nbformat": 4,
 "nbformat_minor": 4
}
